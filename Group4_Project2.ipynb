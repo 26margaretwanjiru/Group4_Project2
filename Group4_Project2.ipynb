{
 "cells": [
  {
   "cell_type": "markdown",
   "id": "6f9cf8bd",
   "metadata": {},
   "source": [
    "# Factors Affecting Life Expectancy using Python"
   ]
  },
  {
   "cell_type": "markdown",
   "id": "be0fcf2e",
   "metadata": {},
   "source": [
    "The 2 data sets used contain informative data from countries across the globe about;\n",
    "1. The prevalence of mental health disorders including schizophrenia, bipolar disorder, eating disorders, anxiety disorders, drug use disorders, depression, alcohol use disorders.\n",
    "2. Factors that affect life expectancy in men and women such as status, adult mortality, infant deaths, expenditure, immunization coverage etc."
   ]
  },
  {
   "cell_type": "markdown",
   "id": "f2fccfd9",
   "metadata": {},
   "source": [
    "# 1. Background"
   ]
  },
  {
   "cell_type": "markdown",
   "id": "8847a151",
   "metadata": {},
   "source": [
    "In this analysis, we analyzed Life Expectancy Data and Global Trends in Mental Health Disorder from Kaggle:\n",
    "\n",
    "Life Expectancy Data by Country available here; https://www.kaggle.com/datasets/maryalebron/life-expectancy-data\n",
    "\n",
    "Global Trends in Mental Health Disorder available here; https://www.kaggle.com/datasets/thedevastator/uncover-global-trends-in-mental-health-disorder"
   ]
  },
  {
   "cell_type": "markdown",
   "id": "ac3d8d84",
   "metadata": {},
   "source": [
    "# 2. Objectives"
   ]
  },
  {
   "cell_type": "markdown",
   "id": "6c849e11",
   "metadata": {},
   "source": [
    "The objectives of the analysis are as follows:\n",
    "\n",
    "1. To illustrate whether mental health disorders have devastating impacts on life expectancy. \n",
    "\n",
    "2. To demonstrate whether general government expenditure on health expenditure in health has an effect on life expectancy.\n",
    "\n",
    "3. To demonstrate and visualise whether countries with low GDP have higher cases of mental health disorders.\n",
    "\n",
    "4. To visualise the prevalence of mental health disorders comparing and contrasting depression, anxiety, bipolar disorder, \n",
    "   schizophrenia, eating disorders, alcohol use disorder and drug use disorder across different countries in 2015. \n"
   ]
  },
  {
   "cell_type": "markdown",
   "id": "0b08e594",
   "metadata": {},
   "source": [
    "Start by loading the required libraries;"
   ]
  },
  {
   "cell_type": "code",
   "execution_count": 193,
   "id": "4cf9cc9e",
   "metadata": {},
   "outputs": [],
   "source": [
    "#Import required libraries\n",
    "import pandas as pd\n",
    "import matplotlib.pyplot as plt\n",
    "import numpy as np\n",
    "import seaborn as sns\n",
    "\n",
    "%matplotlib inline"
   ]
  },
  {
   "cell_type": "code",
   "execution_count": 72,
   "id": "0920ccbf",
   "metadata": {},
   "outputs": [],
   "source": [
    "#Load the first data set i.e. life expectancy data\n",
    "\n",
    "df1 = pd.read_csv(\"C:/Users/kinyanjuim/Desktop/Project2_Groupwork/life expectancy data/Life_Expectancy_Data_v2.csv\")"
   ]
  },
  {
   "cell_type": "code",
   "execution_count": 73,
   "id": "ae4a7ed0",
   "metadata": {},
   "outputs": [
    {
     "name": "stderr",
     "output_type": "stream",
     "text": [
      "C:\\Users\\kinyanjuim\\AppData\\Local\\Temp\\ipykernel_8712\\2255110048.py:1: DtypeWarning: Columns (5,6) have mixed types. Specify dtype option on import or set low_memory=False.\n",
      "  df2 = pd.read_csv(\"C:/Users/kinyanjuim/Desktop/Project2_Groupwork/mental health data/Mental_health_Depression_disorder_Data.csv\")\n"
     ]
    }
   ],
   "source": [
    "#Load the second data set i.e. Global Trends in Mental Health Disorder\n",
    "\n",
    "df2 = pd.read_csv(\"C:/Users/kinyanjuim/Desktop/Project2_Groupwork/mental health data/Mental_health_Depression_disorder_Data.csv\")"
   ]
  },
  {
   "cell_type": "code",
   "execution_count": 51,
   "id": "e92d0d97",
   "metadata": {},
   "outputs": [
    {
     "name": "stdout",
     "output_type": "stream",
     "text": [
      "Index(['Country', 'Year', 'Status', 'Life expectancy (men)',\n",
      "       'Life expectancy(women)', 'Adult Mortality (men)',\n",
      "       'Adult Mortality (women)', 'Infant deaths', 'Alcohol',\n",
      "       'Percentage expenditure', 'Hepatitis B(men)', 'Hepatitis B(women)',\n",
      "       'Measles', 'BMI', 'Under-five deaths', 'Polio', 'Total expenditure',\n",
      "       'Diphtheria ', 'HIV/AIDS', 'GDP', 'Population', 'thinness  1-19 years',\n",
      "       'thinness 5-9 years', 'Income composition of resources', 'Schooling'],\n",
      "      dtype='object')\n"
     ]
    }
   ],
   "source": [
    "#Overview of the columns in df1\n",
    "\n",
    "print(df1.columns)"
   ]
  },
  {
   "cell_type": "code",
   "execution_count": 52,
   "id": "8d258732",
   "metadata": {},
   "outputs": [
    {
     "name": "stdout",
     "output_type": "stream",
     "text": [
      "Index(['index', 'Country', 'Code', 'Year', 'Schizophrenia (%)',\n",
      "       'Bipolar disorder (%)', 'Eating disorders (%)', 'Anxiety disorders (%)',\n",
      "       'Drug use disorders (%)', 'Depression (%)',\n",
      "       'Alcohol use disorders (%)'],\n",
      "      dtype='object')\n"
     ]
    }
   ],
   "source": [
    "#Overview of the columns in df2\n",
    "\n",
    "print(df2.columns)"
   ]
  },
  {
   "cell_type": "code",
   "execution_count": 74,
   "id": "a6fffee4",
   "metadata": {},
   "outputs": [
    {
     "name": "stdout",
     "output_type": "stream",
     "text": [
      "<class 'pandas.core.frame.DataFrame'>\n",
      "RangeIndex: 2938 entries, 0 to 2937\n",
      "Data columns (total 25 columns):\n",
      " #   Column                           Non-Null Count  Dtype  \n",
      "---  ------                           --------------  -----  \n",
      " 0   Country                          2938 non-null   object \n",
      " 1   Year                             2938 non-null   int64  \n",
      " 2   Status                           2938 non-null   object \n",
      " 3   Life expectancy (men)            2938 non-null   int64  \n",
      " 4   Life expectancy(women)           2938 non-null   int64  \n",
      " 5   Adult Mortality (men)            2938 non-null   int64  \n",
      " 6   Adult Mortality (women)          2938 non-null   int64  \n",
      " 7   Infant deaths                    2938 non-null   int64  \n",
      " 8   Alcohol                          2744 non-null   float64\n",
      " 9   Percentage expenditure           2938 non-null   float64\n",
      " 10  Hepatitis B(men)                 2938 non-null   int64  \n",
      " 11  Hepatitis B(women)               2938 non-null   int64  \n",
      " 12  Measles                          2938 non-null   int64  \n",
      " 13  BMI                              2904 non-null   float64\n",
      " 14  Under-five deaths                2938 non-null   int64  \n",
      " 15  Polio                            2919 non-null   float64\n",
      " 16  Total expenditure                2712 non-null   float64\n",
      " 17  Diphtheria                       2919 non-null   float64\n",
      " 18  HIV/AIDS                         2938 non-null   float64\n",
      " 19  GDP                              2490 non-null   float64\n",
      " 20  Population                       2286 non-null   float64\n",
      " 21  thinness  1-19 years             2904 non-null   float64\n",
      " 22  thinness 5-9 years               2904 non-null   float64\n",
      " 23  Income composition of resources  2771 non-null   float64\n",
      " 24  Schooling                        2775 non-null   float64\n",
      "dtypes: float64(13), int64(10), object(2)\n",
      "memory usage: 574.0+ KB\n"
     ]
    }
   ],
   "source": [
    "df1.info()"
   ]
  },
  {
   "cell_type": "code",
   "execution_count": 106,
   "id": "5e6c755a",
   "metadata": {},
   "outputs": [
    {
     "name": "stdout",
     "output_type": "stream",
     "text": [
      "<class 'pandas.core.frame.DataFrame'>\n",
      "RangeIndex: 108553 entries, 0 to 108552\n",
      "Data columns (total 11 columns):\n",
      " #   Column                     Non-Null Count   Dtype  \n",
      "---  ------                     --------------   -----  \n",
      " 0   index                      108553 non-null  int64  \n",
      " 1   Country                    108553 non-null  object \n",
      " 2   Code                       103141 non-null  object \n",
      " 3   Year                       108553 non-null  object \n",
      " 4   Schizophrenia (%)          25875 non-null   object \n",
      " 5   Bipolar disorder (%)       19406 non-null   object \n",
      " 6   Eating disorders (%)       100236 non-null  object \n",
      " 7   Anxiety disorders (%)      6468 non-null    float64\n",
      " 8   Drug use disorders (%)     6468 non-null    float64\n",
      " 9   Depression (%)             6468 non-null    float64\n",
      " 10  Alcohol use disorders (%)  6468 non-null    float64\n",
      "dtypes: float64(4), int64(1), object(6)\n",
      "memory usage: 9.1+ MB\n"
     ]
    }
   ],
   "source": [
    "df2.info()"
   ]
  },
  {
   "cell_type": "code",
   "execution_count": 96,
   "id": "2c6191cc",
   "metadata": {},
   "outputs": [],
   "source": [
    "df2.rename(columns = {'Entity':'Country'}, inplace = True)"
   ]
  },
  {
   "cell_type": "code",
   "execution_count": 107,
   "id": "a8f01105",
   "metadata": {},
   "outputs": [],
   "source": [
    "df3 = df2[:6468]"
   ]
  },
  {
   "cell_type": "code",
   "execution_count": 141,
   "id": "48024ae7",
   "metadata": {},
   "outputs": [
    {
     "data": {
      "text/html": [
       "<div>\n",
       "<style scoped>\n",
       "    .dataframe tbody tr th:only-of-type {\n",
       "        vertical-align: middle;\n",
       "    }\n",
       "\n",
       "    .dataframe tbody tr th {\n",
       "        vertical-align: top;\n",
       "    }\n",
       "\n",
       "    .dataframe thead th {\n",
       "        text-align: right;\n",
       "    }\n",
       "</style>\n",
       "<table border=\"1\" class=\"dataframe\">\n",
       "  <thead>\n",
       "    <tr style=\"text-align: right;\">\n",
       "      <th></th>\n",
       "      <th>index</th>\n",
       "      <th>Country</th>\n",
       "      <th>Code</th>\n",
       "      <th>Year</th>\n",
       "      <th>Schizophrenia (%)</th>\n",
       "      <th>Bipolar disorder (%)</th>\n",
       "      <th>Eating disorders (%)</th>\n",
       "      <th>Anxiety disorders (%)</th>\n",
       "      <th>Drug use disorders (%)</th>\n",
       "      <th>Depression (%)</th>\n",
       "      <th>Alcohol use disorders (%)</th>\n",
       "    </tr>\n",
       "  </thead>\n",
       "  <tbody>\n",
       "    <tr>\n",
       "      <th>6463</th>\n",
       "      <td>6463</td>\n",
       "      <td>Zimbabwe</td>\n",
       "      <td>ZWE</td>\n",
       "      <td>2013</td>\n",
       "      <td>0.15567</td>\n",
       "      <td>0.607993</td>\n",
       "      <td>0.117248</td>\n",
       "      <td>3.090168</td>\n",
       "      <td>0.766280</td>\n",
       "      <td>3.128192</td>\n",
       "      <td>1.515641</td>\n",
       "    </tr>\n",
       "    <tr>\n",
       "      <th>6464</th>\n",
       "      <td>6464</td>\n",
       "      <td>Zimbabwe</td>\n",
       "      <td>ZWE</td>\n",
       "      <td>2014</td>\n",
       "      <td>0.155993</td>\n",
       "      <td>0.60861</td>\n",
       "      <td>0.118073</td>\n",
       "      <td>3.093964</td>\n",
       "      <td>0.768914</td>\n",
       "      <td>3.140290</td>\n",
       "      <td>1.515470</td>\n",
       "    </tr>\n",
       "    <tr>\n",
       "      <th>6465</th>\n",
       "      <td>6465</td>\n",
       "      <td>Zimbabwe</td>\n",
       "      <td>ZWE</td>\n",
       "      <td>2015</td>\n",
       "      <td>0.156465</td>\n",
       "      <td>0.609363</td>\n",
       "      <td>0.11947</td>\n",
       "      <td>3.098687</td>\n",
       "      <td>0.771802</td>\n",
       "      <td>3.155710</td>\n",
       "      <td>1.514751</td>\n",
       "    </tr>\n",
       "    <tr>\n",
       "      <th>6466</th>\n",
       "      <td>6466</td>\n",
       "      <td>Zimbabwe</td>\n",
       "      <td>ZWE</td>\n",
       "      <td>2016</td>\n",
       "      <td>0.157111</td>\n",
       "      <td>0.610234</td>\n",
       "      <td>0.121456</td>\n",
       "      <td>3.104294</td>\n",
       "      <td>0.772275</td>\n",
       "      <td>3.174134</td>\n",
       "      <td>1.513269</td>\n",
       "    </tr>\n",
       "    <tr>\n",
       "      <th>6467</th>\n",
       "      <td>6467</td>\n",
       "      <td>Zimbabwe</td>\n",
       "      <td>ZWE</td>\n",
       "      <td>2017</td>\n",
       "      <td>0.157963</td>\n",
       "      <td>0.611242</td>\n",
       "      <td>0.124443</td>\n",
       "      <td>3.110926</td>\n",
       "      <td>0.772648</td>\n",
       "      <td>3.192789</td>\n",
       "      <td>1.510943</td>\n",
       "    </tr>\n",
       "  </tbody>\n",
       "</table>\n",
       "</div>"
      ],
      "text/plain": [
       "      index   Country Code  Year Schizophrenia (%) Bipolar disorder (%)  \\\n",
       "6463   6463  Zimbabwe  ZWE  2013           0.15567             0.607993   \n",
       "6464   6464  Zimbabwe  ZWE  2014          0.155993              0.60861   \n",
       "6465   6465  Zimbabwe  ZWE  2015          0.156465             0.609363   \n",
       "6466   6466  Zimbabwe  ZWE  2016          0.157111             0.610234   \n",
       "6467   6467  Zimbabwe  ZWE  2017          0.157963             0.611242   \n",
       "\n",
       "     Eating disorders (%)  Anxiety disorders (%)  Drug use disorders (%)  \\\n",
       "6463             0.117248               3.090168                0.766280   \n",
       "6464             0.118073               3.093964                0.768914   \n",
       "6465              0.11947               3.098687                0.771802   \n",
       "6466             0.121456               3.104294                0.772275   \n",
       "6467             0.124443               3.110926                0.772648   \n",
       "\n",
       "      Depression (%)  Alcohol use disorders (%)  \n",
       "6463        3.128192                   1.515641  \n",
       "6464        3.140290                   1.515470  \n",
       "6465        3.155710                   1.514751  \n",
       "6466        3.174134                   1.513269  \n",
       "6467        3.192789                   1.510943  "
      ]
     },
     "execution_count": 141,
     "metadata": {},
     "output_type": "execute_result"
    }
   ],
   "source": [
    "df3.tail()"
   ]
  },
  {
   "cell_type": "code",
   "execution_count": 112,
   "id": "f38444f7",
   "metadata": {},
   "outputs": [
    {
     "name": "stdout",
     "output_type": "stream",
     "text": [
      "<class 'pandas.core.frame.DataFrame'>\n",
      "RangeIndex: 6468 entries, 0 to 6467\n",
      "Data columns (total 11 columns):\n",
      " #   Column                     Non-Null Count  Dtype  \n",
      "---  ------                     --------------  -----  \n",
      " 0   index                      6468 non-null   int64  \n",
      " 1   Country                    6468 non-null   object \n",
      " 2   Code                       5488 non-null   object \n",
      " 3   Year                       6468 non-null   object \n",
      " 4   Schizophrenia (%)          6468 non-null   object \n",
      " 5   Bipolar disorder (%)       6468 non-null   object \n",
      " 6   Eating disorders (%)       6468 non-null   object \n",
      " 7   Anxiety disorders (%)      6468 non-null   float64\n",
      " 8   Drug use disorders (%)     6468 non-null   float64\n",
      " 9   Depression (%)             6468 non-null   float64\n",
      " 10  Alcohol use disorders (%)  6468 non-null   float64\n",
      "dtypes: float64(4), int64(1), object(6)\n",
      "memory usage: 556.0+ KB\n"
     ]
    }
   ],
   "source": [
    "df3.info()"
   ]
  },
  {
   "cell_type": "code",
   "execution_count": 117,
   "id": "6b0bf0ec",
   "metadata": {},
   "outputs": [
    {
     "name": "stderr",
     "output_type": "stream",
     "text": [
      "C:\\Users\\kinyanjuim\\AppData\\Local\\Temp\\ipykernel_8712\\2558282477.py:1: SettingWithCopyWarning: \n",
      "A value is trying to be set on a copy of a slice from a DataFrame.\n",
      "Try using .loc[row_indexer,col_indexer] = value instead\n",
      "\n",
      "See the caveats in the documentation: https://pandas.pydata.org/pandas-docs/stable/user_guide/indexing.html#returning-a-view-versus-a-copy\n",
      "  df3['Year'] = pd.to_numeric(df3['Year'])\n"
     ]
    }
   ],
   "source": [
    "df3['Year'] = pd.to_numeric(df3['Year'])"
   ]
  },
  {
   "cell_type": "code",
   "execution_count": 118,
   "id": "c1f47922",
   "metadata": {},
   "outputs": [
    {
     "name": "stdout",
     "output_type": "stream",
     "text": [
      "<class 'pandas.core.frame.DataFrame'>\n",
      "RangeIndex: 6468 entries, 0 to 6467\n",
      "Data columns (total 11 columns):\n",
      " #   Column                     Non-Null Count  Dtype  \n",
      "---  ------                     --------------  -----  \n",
      " 0   index                      6468 non-null   int64  \n",
      " 1   Country                    6468 non-null   object \n",
      " 2   Code                       5488 non-null   object \n",
      " 3   Year                       6468 non-null   int32  \n",
      " 4   Schizophrenia (%)          6468 non-null   object \n",
      " 5   Bipolar disorder (%)       6468 non-null   object \n",
      " 6   Eating disorders (%)       6468 non-null   object \n",
      " 7   Anxiety disorders (%)      6468 non-null   float64\n",
      " 8   Drug use disorders (%)     6468 non-null   float64\n",
      " 9   Depression (%)             6468 non-null   float64\n",
      " 10  Alcohol use disorders (%)  6468 non-null   float64\n",
      "dtypes: float64(4), int32(1), int64(1), object(5)\n",
      "memory usage: 530.7+ KB\n"
     ]
    }
   ],
   "source": [
    "df3.info()"
   ]
  },
  {
   "cell_type": "code",
   "execution_count": null,
   "id": "5bf696e2",
   "metadata": {},
   "outputs": [],
   "source": [
    "print(df4)"
   ]
  },
  {
   "cell_type": "code",
   "execution_count": 119,
   "id": "c5784506",
   "metadata": {},
   "outputs": [],
   "source": [
    "df4 = df3[df3['Year'] == 2015]"
   ]
  },
  {
   "cell_type": "code",
   "execution_count": 133,
   "id": "10bc8b55",
   "metadata": {},
   "outputs": [],
   "source": [
    "df5=df1[df1['Year'] == 2015]"
   ]
  },
  {
   "cell_type": "code",
   "execution_count": 134,
   "id": "b297489a",
   "metadata": {},
   "outputs": [
    {
     "data": {
      "text/html": [
       "<div>\n",
       "<style scoped>\n",
       "    .dataframe tbody tr th:only-of-type {\n",
       "        vertical-align: middle;\n",
       "    }\n",
       "\n",
       "    .dataframe tbody tr th {\n",
       "        vertical-align: top;\n",
       "    }\n",
       "\n",
       "    .dataframe thead th {\n",
       "        text-align: right;\n",
       "    }\n",
       "</style>\n",
       "<table border=\"1\" class=\"dataframe\">\n",
       "  <thead>\n",
       "    <tr style=\"text-align: right;\">\n",
       "      <th></th>\n",
       "      <th>index</th>\n",
       "      <th>Country</th>\n",
       "      <th>Code</th>\n",
       "      <th>Year</th>\n",
       "      <th>Schizophrenia (%)</th>\n",
       "      <th>Bipolar disorder (%)</th>\n",
       "      <th>Eating disorders (%)</th>\n",
       "      <th>Anxiety disorders (%)</th>\n",
       "      <th>Drug use disorders (%)</th>\n",
       "      <th>Depression (%)</th>\n",
       "      <th>Alcohol use disorders (%)</th>\n",
       "    </tr>\n",
       "  </thead>\n",
       "  <tbody>\n",
       "    <tr>\n",
       "      <th>25</th>\n",
       "      <td>25</td>\n",
       "      <td>Afghanistan</td>\n",
       "      <td>AFG</td>\n",
       "      <td>2015</td>\n",
       "      <td>0.165895</td>\n",
       "      <td>0.707275</td>\n",
       "      <td>0.104445</td>\n",
       "      <td>4.875201</td>\n",
       "      <td>2.543144</td>\n",
       "      <td>4.135419</td>\n",
       "      <td>0.662276</td>\n",
       "    </tr>\n",
       "    <tr>\n",
       "      <th>53</th>\n",
       "      <td>53</td>\n",
       "      <td>Albania</td>\n",
       "      <td>ALB</td>\n",
       "      <td>2015</td>\n",
       "      <td>0.20063</td>\n",
       "      <td>0.704161</td>\n",
       "      <td>0.171095</td>\n",
       "      <td>3.388212</td>\n",
       "      <td>0.513158</td>\n",
       "      <td>2.204454</td>\n",
       "      <td>1.850252</td>\n",
       "    </tr>\n",
       "    <tr>\n",
       "      <th>81</th>\n",
       "      <td>81</td>\n",
       "      <td>Algeria</td>\n",
       "      <td>DZA</td>\n",
       "      <td>2015</td>\n",
       "      <td>0.197728</td>\n",
       "      <td>0.817862</td>\n",
       "      <td>0.211434</td>\n",
       "      <td>5.058398</td>\n",
       "      <td>1.709814</td>\n",
       "      <td>3.636962</td>\n",
       "      <td>0.665817</td>\n",
       "    </tr>\n",
       "    <tr>\n",
       "      <th>109</th>\n",
       "      <td>109</td>\n",
       "      <td>American Samoa</td>\n",
       "      <td>ASM</td>\n",
       "      <td>2015</td>\n",
       "      <td>0.248981</td>\n",
       "      <td>0.468434</td>\n",
       "      <td>0.179144</td>\n",
       "      <td>3.316201</td>\n",
       "      <td>0.769507</td>\n",
       "      <td>2.936809</td>\n",
       "      <td>1.141513</td>\n",
       "    </tr>\n",
       "    <tr>\n",
       "      <th>137</th>\n",
       "      <td>137</td>\n",
       "      <td>Andean Latin America</td>\n",
       "      <td>NaN</td>\n",
       "      <td>2015</td>\n",
       "      <td>0.200693</td>\n",
       "      <td>0.881143</td>\n",
       "      <td>0.350127</td>\n",
       "      <td>4.266704</td>\n",
       "      <td>0.667189</td>\n",
       "      <td>2.605462</td>\n",
       "      <td>1.548874</td>\n",
       "    </tr>\n",
       "  </tbody>\n",
       "</table>\n",
       "</div>"
      ],
      "text/plain": [
       "     index               Country Code  Year Schizophrenia (%)  \\\n",
       "25      25           Afghanistan  AFG  2015          0.165895   \n",
       "53      53               Albania  ALB  2015           0.20063   \n",
       "81      81               Algeria  DZA  2015          0.197728   \n",
       "109    109        American Samoa  ASM  2015          0.248981   \n",
       "137    137  Andean Latin America  NaN  2015          0.200693   \n",
       "\n",
       "    Bipolar disorder (%) Eating disorders (%)  Anxiety disorders (%)  \\\n",
       "25              0.707275             0.104445               4.875201   \n",
       "53              0.704161             0.171095               3.388212   \n",
       "81              0.817862             0.211434               5.058398   \n",
       "109             0.468434             0.179144               3.316201   \n",
       "137             0.881143             0.350127               4.266704   \n",
       "\n",
       "     Drug use disorders (%)  Depression (%)  Alcohol use disorders (%)  \n",
       "25                 2.543144        4.135419                   0.662276  \n",
       "53                 0.513158        2.204454                   1.850252  \n",
       "81                 1.709814        3.636962                   0.665817  \n",
       "109                0.769507        2.936809                   1.141513  \n",
       "137                0.667189        2.605462                   1.548874  "
      ]
     },
     "execution_count": 134,
     "metadata": {},
     "output_type": "execute_result"
    }
   ],
   "source": [
    "df4.head()"
   ]
  },
  {
   "cell_type": "code",
   "execution_count": 135,
   "id": "585c8aad",
   "metadata": {},
   "outputs": [
    {
     "name": "stdout",
     "output_type": "stream",
     "text": [
      "<class 'pandas.core.frame.DataFrame'>\n",
      "Int64Index: 231 entries, 25 to 6465\n",
      "Data columns (total 11 columns):\n",
      " #   Column                     Non-Null Count  Dtype  \n",
      "---  ------                     --------------  -----  \n",
      " 0   index                      231 non-null    int64  \n",
      " 1   Country                    231 non-null    object \n",
      " 2   Code                       196 non-null    object \n",
      " 3   Year                       231 non-null    int32  \n",
      " 4   Schizophrenia (%)          231 non-null    object \n",
      " 5   Bipolar disorder (%)       231 non-null    object \n",
      " 6   Eating disorders (%)       231 non-null    object \n",
      " 7   Anxiety disorders (%)      231 non-null    float64\n",
      " 8   Drug use disorders (%)     231 non-null    float64\n",
      " 9   Depression (%)             231 non-null    float64\n",
      " 10  Alcohol use disorders (%)  231 non-null    float64\n",
      "dtypes: float64(4), int32(1), int64(1), object(5)\n",
      "memory usage: 20.8+ KB\n"
     ]
    }
   ],
   "source": [
    "df4.info()"
   ]
  },
  {
   "cell_type": "code",
   "execution_count": 136,
   "id": "5cb18fbe",
   "metadata": {},
   "outputs": [
    {
     "data": {
      "text/html": [
       "<div>\n",
       "<style scoped>\n",
       "    .dataframe tbody tr th:only-of-type {\n",
       "        vertical-align: middle;\n",
       "    }\n",
       "\n",
       "    .dataframe tbody tr th {\n",
       "        vertical-align: top;\n",
       "    }\n",
       "\n",
       "    .dataframe thead th {\n",
       "        text-align: right;\n",
       "    }\n",
       "</style>\n",
       "<table border=\"1\" class=\"dataframe\">\n",
       "  <thead>\n",
       "    <tr style=\"text-align: right;\">\n",
       "      <th></th>\n",
       "      <th>Country</th>\n",
       "      <th>Year</th>\n",
       "      <th>Status</th>\n",
       "      <th>Life expectancy (men)</th>\n",
       "      <th>Life expectancy(women)</th>\n",
       "      <th>Adult Mortality (men)</th>\n",
       "      <th>Adult Mortality (women)</th>\n",
       "      <th>Infant deaths</th>\n",
       "      <th>Alcohol</th>\n",
       "      <th>Percentage expenditure</th>\n",
       "      <th>...</th>\n",
       "      <th>Polio</th>\n",
       "      <th>Total expenditure</th>\n",
       "      <th>Diphtheria</th>\n",
       "      <th>HIV/AIDS</th>\n",
       "      <th>GDP</th>\n",
       "      <th>Population</th>\n",
       "      <th>thinness  1-19 years</th>\n",
       "      <th>thinness 5-9 years</th>\n",
       "      <th>Income composition of resources</th>\n",
       "      <th>Schooling</th>\n",
       "    </tr>\n",
       "  </thead>\n",
       "  <tbody>\n",
       "    <tr>\n",
       "      <th>0</th>\n",
       "      <td>Afghanistan</td>\n",
       "      <td>2015</td>\n",
       "      <td>Developing</td>\n",
       "      <td>70</td>\n",
       "      <td>66</td>\n",
       "      <td>67</td>\n",
       "      <td>65</td>\n",
       "      <td>62</td>\n",
       "      <td>0.01</td>\n",
       "      <td>71.279624</td>\n",
       "      <td>...</td>\n",
       "      <td>6.0</td>\n",
       "      <td>8.16</td>\n",
       "      <td>65.0</td>\n",
       "      <td>0.1</td>\n",
       "      <td>584.259210</td>\n",
       "      <td>33736494.0</td>\n",
       "      <td>17.2</td>\n",
       "      <td>17.3</td>\n",
       "      <td>0.479</td>\n",
       "      <td>10.1</td>\n",
       "    </tr>\n",
       "    <tr>\n",
       "      <th>16</th>\n",
       "      <td>Albania</td>\n",
       "      <td>2015</td>\n",
       "      <td>Developing</td>\n",
       "      <td>78</td>\n",
       "      <td>66</td>\n",
       "      <td>97</td>\n",
       "      <td>68</td>\n",
       "      <td>0</td>\n",
       "      <td>4.60</td>\n",
       "      <td>364.975229</td>\n",
       "      <td>...</td>\n",
       "      <td>99.0</td>\n",
       "      <td>6.00</td>\n",
       "      <td>99.0</td>\n",
       "      <td>0.1</td>\n",
       "      <td>3954.227830</td>\n",
       "      <td>28873.0</td>\n",
       "      <td>1.2</td>\n",
       "      <td>1.3</td>\n",
       "      <td>0.762</td>\n",
       "      <td>14.2</td>\n",
       "    </tr>\n",
       "    <tr>\n",
       "      <th>32</th>\n",
       "      <td>Algeria</td>\n",
       "      <td>2015</td>\n",
       "      <td>Developing</td>\n",
       "      <td>84</td>\n",
       "      <td>71</td>\n",
       "      <td>52</td>\n",
       "      <td>81</td>\n",
       "      <td>21</td>\n",
       "      <td>NaN</td>\n",
       "      <td>0.000000</td>\n",
       "      <td>...</td>\n",
       "      <td>95.0</td>\n",
       "      <td>NaN</td>\n",
       "      <td>95.0</td>\n",
       "      <td>0.1</td>\n",
       "      <td>4132.762920</td>\n",
       "      <td>39871528.0</td>\n",
       "      <td>6.0</td>\n",
       "      <td>5.8</td>\n",
       "      <td>0.743</td>\n",
       "      <td>14.4</td>\n",
       "    </tr>\n",
       "    <tr>\n",
       "      <th>48</th>\n",
       "      <td>Angola</td>\n",
       "      <td>2015</td>\n",
       "      <td>Developing</td>\n",
       "      <td>73</td>\n",
       "      <td>71</td>\n",
       "      <td>93</td>\n",
       "      <td>59</td>\n",
       "      <td>66</td>\n",
       "      <td>NaN</td>\n",
       "      <td>0.000000</td>\n",
       "      <td>...</td>\n",
       "      <td>7.0</td>\n",
       "      <td>NaN</td>\n",
       "      <td>64.0</td>\n",
       "      <td>1.9</td>\n",
       "      <td>3695.793748</td>\n",
       "      <td>2785935.0</td>\n",
       "      <td>8.3</td>\n",
       "      <td>8.2</td>\n",
       "      <td>0.531</td>\n",
       "      <td>11.4</td>\n",
       "    </tr>\n",
       "    <tr>\n",
       "      <th>64</th>\n",
       "      <td>Antigua and Barbuda</td>\n",
       "      <td>2015</td>\n",
       "      <td>Developing</td>\n",
       "      <td>71</td>\n",
       "      <td>56</td>\n",
       "      <td>58</td>\n",
       "      <td>85</td>\n",
       "      <td>0</td>\n",
       "      <td>NaN</td>\n",
       "      <td>0.000000</td>\n",
       "      <td>...</td>\n",
       "      <td>86.0</td>\n",
       "      <td>NaN</td>\n",
       "      <td>99.0</td>\n",
       "      <td>0.2</td>\n",
       "      <td>13566.954100</td>\n",
       "      <td>NaN</td>\n",
       "      <td>3.3</td>\n",
       "      <td>3.3</td>\n",
       "      <td>0.784</td>\n",
       "      <td>13.9</td>\n",
       "    </tr>\n",
       "  </tbody>\n",
       "</table>\n",
       "<p>5 rows × 25 columns</p>\n",
       "</div>"
      ],
      "text/plain": [
       "                Country  Year      Status  Life expectancy (men)  \\\n",
       "0           Afghanistan  2015  Developing                     70   \n",
       "16              Albania  2015  Developing                     78   \n",
       "32              Algeria  2015  Developing                     84   \n",
       "48               Angola  2015  Developing                     73   \n",
       "64  Antigua and Barbuda  2015  Developing                     71   \n",
       "\n",
       "    Life expectancy(women)  Adult Mortality (men)  Adult Mortality (women)  \\\n",
       "0                       66                     67                       65   \n",
       "16                      66                     97                       68   \n",
       "32                      71                     52                       81   \n",
       "48                      71                     93                       59   \n",
       "64                      56                     58                       85   \n",
       "\n",
       "    Infant deaths  Alcohol  Percentage expenditure  ...  Polio  \\\n",
       "0              62     0.01               71.279624  ...    6.0   \n",
       "16              0     4.60              364.975229  ...   99.0   \n",
       "32             21      NaN                0.000000  ...   95.0   \n",
       "48             66      NaN                0.000000  ...    7.0   \n",
       "64              0      NaN                0.000000  ...   86.0   \n",
       "\n",
       "    Total expenditure  Diphtheria   HIV/AIDS           GDP  Population  \\\n",
       "0                8.16         65.0       0.1    584.259210  33736494.0   \n",
       "16               6.00         99.0       0.1   3954.227830     28873.0   \n",
       "32                NaN         95.0       0.1   4132.762920  39871528.0   \n",
       "48                NaN         64.0       1.9   3695.793748   2785935.0   \n",
       "64                NaN         99.0       0.2  13566.954100         NaN   \n",
       "\n",
       "    thinness  1-19 years  thinness 5-9 years  Income composition of resources  \\\n",
       "0                   17.2                17.3                            0.479   \n",
       "16                   1.2                 1.3                            0.762   \n",
       "32                   6.0                 5.8                            0.743   \n",
       "48                   8.3                 8.2                            0.531   \n",
       "64                   3.3                 3.3                            0.784   \n",
       "\n",
       "    Schooling  \n",
       "0        10.1  \n",
       "16       14.2  \n",
       "32       14.4  \n",
       "48       11.4  \n",
       "64       13.9  \n",
       "\n",
       "[5 rows x 25 columns]"
      ]
     },
     "execution_count": 136,
     "metadata": {},
     "output_type": "execute_result"
    }
   ],
   "source": [
    "df5.head()"
   ]
  },
  {
   "cell_type": "code",
   "execution_count": 177,
   "id": "32158ebf",
   "metadata": {},
   "outputs": [],
   "source": [
    "merged_data = pd.merge(df4, df5,on='Country' )"
   ]
  },
  {
   "cell_type": "code",
   "execution_count": 181,
   "id": "6ca43538",
   "metadata": {},
   "outputs": [
    {
     "name": "stdout",
     "output_type": "stream",
     "text": [
      "<class 'pandas.core.frame.DataFrame'>\n",
      "Int64Index: 162 entries, 0 to 161\n",
      "Data columns (total 35 columns):\n",
      " #   Column                           Non-Null Count  Dtype  \n",
      "---  ------                           --------------  -----  \n",
      " 0   index                            162 non-null    int64  \n",
      " 1   Country                          162 non-null    object \n",
      " 2   Code                             162 non-null    object \n",
      " 3   Year_x                           162 non-null    int32  \n",
      " 4   Schizophrenia (%)                162 non-null    object \n",
      " 5   Bipolar disorder (%)             162 non-null    object \n",
      " 6   Eating disorders (%)             162 non-null    object \n",
      " 7   Anxiety disorders (%)            162 non-null    float64\n",
      " 8   Drug use disorders (%)           162 non-null    float64\n",
      " 9   Depression (%)                   162 non-null    float64\n",
      " 10  Alcohol use disorders (%)        162 non-null    float64\n",
      " 11  Year_y                           162 non-null    int64  \n",
      " 12  Status                           162 non-null    object \n",
      " 13  Life expectancy (men)            162 non-null    int64  \n",
      " 14  Life expectancy(women)           162 non-null    int64  \n",
      " 15  Adult Mortality (men)            162 non-null    int64  \n",
      " 16  Adult Mortality (women)          162 non-null    int64  \n",
      " 17  Infant deaths                    162 non-null    int64  \n",
      " 18  Alcohol                          5 non-null      float64\n",
      " 19  Percentage expenditure           162 non-null    float64\n",
      " 20  Hepatitis B(men)                 162 non-null    int64  \n",
      " 21  Hepatitis B(women)               162 non-null    int64  \n",
      " 22  Measles                          162 non-null    int64  \n",
      " 23  BMI                              160 non-null    float64\n",
      " 24  Under-five deaths                162 non-null    int64  \n",
      " 25  Polio                            162 non-null    float64\n",
      " 26  Total expenditure                2 non-null      float64\n",
      " 27  Diphtheria                       162 non-null    float64\n",
      " 28  HIV/AIDS                         162 non-null    float64\n",
      " 29  GDP                              150 non-null    float64\n",
      " 30  Population                       138 non-null    float64\n",
      " 31  thinness  1-19 years             160 non-null    float64\n",
      " 32  thinness 5-9 years               160 non-null    float64\n",
      " 33  Income composition of resources  161 non-null    float64\n",
      " 34  Schooling                        161 non-null    float64\n",
      "dtypes: float64(17), int32(1), int64(11), object(6)\n",
      "memory usage: 44.9+ KB\n"
     ]
    }
   ],
   "source": [
    "merged_data.info()"
   ]
  },
  {
   "cell_type": "code",
   "execution_count": 140,
   "id": "e0b0f4d9",
   "metadata": {},
   "outputs": [],
   "source": [
    "# merged_data.to_csv('merged_data.csv')"
   ]
  },
  {
   "cell_type": "code",
   "execution_count": 186,
   "id": "e5e65903",
   "metadata": {},
   "outputs": [],
   "source": [
    "# Dropping columns we don't need\n",
    "\n",
    "mdata = merged_data.drop(merged_data.columns[[0, 2, 11, 31,32,34]], axis=1)"
   ]
  },
  {
   "cell_type": "code",
   "execution_count": 187,
   "id": "c3d2f3b2",
   "metadata": {},
   "outputs": [
    {
     "name": "stdout",
     "output_type": "stream",
     "text": [
      "<class 'pandas.core.frame.DataFrame'>\n",
      "Int64Index: 162 entries, 0 to 161\n",
      "Data columns (total 29 columns):\n",
      " #   Column                           Non-Null Count  Dtype  \n",
      "---  ------                           --------------  -----  \n",
      " 0   Country                          162 non-null    object \n",
      " 1   Year_x                           162 non-null    int32  \n",
      " 2   Schizophrenia (%)                162 non-null    object \n",
      " 3   Bipolar disorder (%)             162 non-null    object \n",
      " 4   Eating disorders (%)             162 non-null    object \n",
      " 5   Anxiety disorders (%)            162 non-null    float64\n",
      " 6   Drug use disorders (%)           162 non-null    float64\n",
      " 7   Depression (%)                   162 non-null    float64\n",
      " 8   Alcohol use disorders (%)        162 non-null    float64\n",
      " 9   Status                           162 non-null    object \n",
      " 10  Life expectancy (men)            162 non-null    int64  \n",
      " 11  Life expectancy(women)           162 non-null    int64  \n",
      " 12  Adult Mortality (men)            162 non-null    int64  \n",
      " 13  Adult Mortality (women)          162 non-null    int64  \n",
      " 14  Infant deaths                    162 non-null    int64  \n",
      " 15  Alcohol                          5 non-null      float64\n",
      " 16  Percentage expenditure           162 non-null    float64\n",
      " 17  Hepatitis B(men)                 162 non-null    int64  \n",
      " 18  Hepatitis B(women)               162 non-null    int64  \n",
      " 19  Measles                          162 non-null    int64  \n",
      " 20  BMI                              160 non-null    float64\n",
      " 21  Under-five deaths                162 non-null    int64  \n",
      " 22  Polio                            162 non-null    float64\n",
      " 23  Total expenditure                2 non-null      float64\n",
      " 24  Diphtheria                       162 non-null    float64\n",
      " 25  HIV/AIDS                         162 non-null    float64\n",
      " 26  GDP                              150 non-null    float64\n",
      " 27  Population                       138 non-null    float64\n",
      " 28  Income composition of resources  161 non-null    float64\n",
      "dtypes: float64(14), int32(1), int64(9), object(5)\n",
      "memory usage: 37.3+ KB\n"
     ]
    }
   ],
   "source": [
    "mdata.info()"
   ]
  },
  {
   "cell_type": "code",
   "execution_count": 189,
   "id": "1edca3cc",
   "metadata": {},
   "outputs": [
    {
     "name": "stdout",
     "output_type": "stream",
     "text": [
      "Country                              0\n",
      "Year_x                               0\n",
      "Schizophrenia (%)                    0\n",
      "Bipolar disorder (%)                 0\n",
      "Eating disorders (%)                 0\n",
      "Anxiety disorders (%)                0\n",
      "Drug use disorders (%)               0\n",
      "Depression (%)                       0\n",
      "Alcohol use disorders (%)            0\n",
      "Status                               0\n",
      "Life expectancy (men)                0\n",
      "Life expectancy(women)               0\n",
      "Adult Mortality (men)                0\n",
      "Adult Mortality (women)              0\n",
      "Infant deaths                        0\n",
      "Alcohol                            157\n",
      "Percentage expenditure               0\n",
      "Hepatitis B(men)                     0\n",
      "Hepatitis B(women)                   0\n",
      "Measles                              0\n",
      "BMI                                  2\n",
      "Under-five deaths                    0\n",
      "Polio                                0\n",
      "Total expenditure                  160\n",
      "Diphtheria                           0\n",
      "HIV/AIDS                             0\n",
      "GDP                                 12\n",
      "Population                          24\n",
      "Income composition of resources      1\n",
      "dtype: int64\n"
     ]
    }
   ],
   "source": [
    "# Missing Values\n",
    "missing_values = mdata.isnull().sum()\n",
    "print(missing_values)"
   ]
  },
  {
   "cell_type": "code",
   "execution_count": 194,
   "id": "6e918765",
   "metadata": {},
   "outputs": [
    {
     "data": {
      "text/plain": [
       "<Figure size 1000x600 with 0 Axes>"
      ]
     },
     "metadata": {},
     "output_type": "display_data"
    },
    {
     "data": {
      "image/png": "[encoded data removed]",
      "text/plain": [
       "<Figure size 709.875x500 with 1 Axes>"
      ]
     },
     "metadata": {},
     "output_type": "display_data"
    }
   ],
   "source": [
    "# Plot the missing values\n",
    "plt.figure(figsize=(10,6))\n",
    "sns.displot(\n",
    "    data=mdata.isna().melt(value_name=\"missing\"),\n",
    "    y=\"variable\",\n",
    "    hue=\"missing\",\n",
    "    multiple=\"fill\",\n",
    "    aspect=1.25\n",
    ")\n",
    "plt.savefig(\"visualizing_missing_data_with_barplot_Seaborn_distplot.png\", dpi=100)"
   ]
  },
  {
   "cell_type": "code",
   "execution_count": null,
   "id": "d10ba6a9",
   "metadata": {},
   "outputs": [],
   "source": []
  },
  {
   "cell_type": "code",
   "execution_count": null,
   "id": "d41b23b2",
   "metadata": {},
   "outputs": [],
   "source": []
  }
 ],
 "metadata": {
  "kernelspec": {
   "display_name": "Python 3 (ipykernel)",
   "language": "python",
   "name": "python3"
  },
  "language_info": {
   "codemirror_mode": {
    "name": "ipython",
    "version": 3
   },
   "file_extension": ".py",
   "mimetype": "text/x-python",
   "name": "python",
   "nbconvert_exporter": "python",
   "pygments_lexer": "ipython3",
   "version": "3.10.9"
  }
 },
 "nbformat": 4,
 "nbformat_minor": 5
}
