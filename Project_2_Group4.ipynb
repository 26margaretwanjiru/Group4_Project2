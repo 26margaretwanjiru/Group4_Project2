{
 "cells": [
  {
   "cell_type": "code",
   "execution_count": 1,
   "id": "0b6161f3",
   "metadata": {},
   "outputs": [],
   "source": [
    "import pandas as pd\n",
    "import matplotlib.pyplot as plt\n",
    "\n",
    "%matplotlib inline"
   ]
  },
  {
   "cell_type": "code",
   "execution_count": 8,
   "id": "9341941a",
   "metadata": {},
   "outputs": [],
   "source": [
    "df1 = pd.read_csv(\"C:/Users/kinyanjuim/Desktop/Project2_Groupwork/life expectancy data/Life_Expectancy_Data_v2.csv\", index_col=0)"
   ]
  },
  {
   "cell_type": "code",
   "execution_count": 9,
   "id": "611a52ed",
   "metadata": {},
   "outputs": [
    {
     "name": "stderr",
     "output_type": "stream",
     "text": [
      "C:\\Users\\kinyanjuim\\AppData\\Local\\Temp\\ipykernel_8248\\3200831763.py:1: DtypeWarning: Columns (5,6) have mixed types. Specify dtype option on import or set low_memory=False.\n",
      "  df2 = pd.read_csv(\"C:/Users/kinyanjuim/Desktop/Project2_Groupwork/mental health data/Mental_health_Depression_disorder_Data.csv\", index_col=0)\n"
     ]
    }
   ],
   "source": [
    "df2 = pd.read_csv(\"C:/Users/kinyanjuim/Desktop/Project2_Groupwork/mental health data/Mental_health_Depression_disorder_Data.csv\", index_col=0)"
   ]
  },
  {
   "cell_type": "code",
   "execution_count": 10,
   "id": "3e5defed",
   "metadata": {},
   "outputs": [],
   "source": [
    "# Run this cell without changes\n",
    "\n",
    "# Check that df is a dataframe\n",
    "assert type(df1) == pd.DataFrame\n",
    "\n"
   ]
  },
  {
   "cell_type": "code",
   "execution_count": 11,
   "id": "19554634",
   "metadata": {},
   "outputs": [
    {
     "name": "stdout",
     "output_type": "stream",
     "text": [
      "<class 'pandas.core.frame.DataFrame'>\n",
      "Index: 2938 entries, Afghanistan to Zimbabwe\n",
      "Data columns (total 24 columns):\n",
      " #   Column                           Non-Null Count  Dtype  \n",
      "---  ------                           --------------  -----  \n",
      " 0   Year                             2938 non-null   int64  \n",
      " 1   Status                           2938 non-null   object \n",
      " 2   Life expectancy (men)            2938 non-null   int64  \n",
      " 3   Life expectancy(women)           2938 non-null   int64  \n",
      " 4   Adult Mortality (men)            2938 non-null   int64  \n",
      " 5   Adult Mortality (women)          2938 non-null   int64  \n",
      " 6   Infant deaths                    2938 non-null   int64  \n",
      " 7   Alcohol                          2744 non-null   float64\n",
      " 8   Percentage expenditure           2938 non-null   float64\n",
      " 9   Hepatitis B(men)                 2938 non-null   int64  \n",
      " 10  Hepatitis B(women)               2938 non-null   int64  \n",
      " 11  Measles                          2938 non-null   int64  \n",
      " 12  BMI                              2904 non-null   float64\n",
      " 13  Under-five deaths                2938 non-null   int64  \n",
      " 14  Polio                            2919 non-null   float64\n",
      " 15  Total expenditure                2712 non-null   float64\n",
      " 16  Diphtheria                       2919 non-null   float64\n",
      " 17  HIV/AIDS                         2938 non-null   float64\n",
      " 18  GDP                              2490 non-null   float64\n",
      " 19  Population                       2286 non-null   float64\n",
      " 20  thinness  1-19 years             2904 non-null   float64\n",
      " 21  thinness 5-9 years               2904 non-null   float64\n",
      " 22  Income composition of resources  2771 non-null   float64\n",
      " 23  Schooling                        2775 non-null   float64\n",
      "dtypes: float64(13), int64(10), object(1)\n",
      "memory usage: 573.8+ KB\n"
     ]
    }
   ],
   "source": [
    "df1.info()"
   ]
  },
  {
   "cell_type": "code",
   "execution_count": 12,
   "id": "8cb6c96c",
   "metadata": {},
   "outputs": [
    {
     "name": "stdout",
     "output_type": "stream",
     "text": [
      "<class 'pandas.core.frame.DataFrame'>\n",
      "Int64Index: 108553 entries, 0 to 108552\n",
      "Data columns (total 10 columns):\n",
      " #   Column                     Non-Null Count   Dtype  \n",
      "---  ------                     --------------   -----  \n",
      " 0   Entity                     108553 non-null  object \n",
      " 1   Code                       103141 non-null  object \n",
      " 2   Year                       108553 non-null  object \n",
      " 3   Schizophrenia (%)          25875 non-null   object \n",
      " 4   Bipolar disorder (%)       19406 non-null   object \n",
      " 5   Eating disorders (%)       100236 non-null  object \n",
      " 6   Anxiety disorders (%)      6468 non-null    float64\n",
      " 7   Drug use disorders (%)     6468 non-null    float64\n",
      " 8   Depression (%)             6468 non-null    float64\n",
      " 9   Alcohol use disorders (%)  6468 non-null    float64\n",
      "dtypes: float64(4), object(6)\n",
      "memory usage: 9.1+ MB\n"
     ]
    }
   ],
   "source": [
    "df2.info()"
   ]
  },
  {
   "cell_type": "code",
   "execution_count": null,
   "id": "7e3ee439",
   "metadata": {},
   "outputs": [],
   "source": []
  }
 ],
 "metadata": {
  "kernelspec": {
   "display_name": "Python 3 (ipykernel)",
   "language": "python",
   "name": "python3"
  },
  "language_info": {
   "codemirror_mode": {
    "name": "ipython",
    "version": 3
   },
   "file_extension": ".py",
   "mimetype": "text/x-python",
   "name": "python",
   "nbconvert_exporter": "python",
   "pygments_lexer": "ipython3",
   "version": "3.10.9"
  }
 },
 "nbformat": 4,
 "nbformat_minor": 5
}
